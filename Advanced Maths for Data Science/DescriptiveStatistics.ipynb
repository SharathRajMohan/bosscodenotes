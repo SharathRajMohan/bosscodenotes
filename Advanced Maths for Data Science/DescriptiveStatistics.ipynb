{
 "cells": [
  {
   "cell_type": "markdown",
   "id": "fbcdbe99",
   "metadata": {},
   "source": [
    "# Descriptive Statistics\n",
    "\n",
    "## In-Class Notes\n",
    "\n",
    "- Statistics:\n",
    "    - Inferential Statistics\n",
    "    - Descriptive Statistics\n",
    "- Descriptive Statistics: summarizing and visualizing the past data.\n",
    "- Measures of central tendency (where the data is centered):\n",
    "    - Mean ($\\mu$) \n",
    "    - Median\n",
    "    - Mode\n",
    "- Measures of spread/variability (Dispersion - As in to what extreme your data belongs to):\n",
    "    - Range: The difference between the maximum and minimum value.\n",
    "        - Max Value - Minimum Value\n",
    "    - Variance: How much the data varies from the mean value.\n",
    "        $$\n",
    "            \\sigma^2 = \\frac{1}{N} \\sum_{i=1}^{N} (x_i - \\mu)^2\n",
    "        $$\n",
    "    - **Example:**  Suppose we have the following data: 2, 4, 6, 8, 10  \n",
    "        - Mean ($\\mu$) = (2 + 4 + 6 + 8 + 10) / 5 = 6  \n",
    "        - Variance ($\\sigma^2$):  \n",
    "        $$\n",
    "        \\sigma^2 = \\frac{1}{5} \\left[(2-6)^2 + (4-6)^2 + (6-6)^2 + (8-6)^2 + (10-6)^2\\right] = \\frac{1}{5} (16 + 4 + 0 + 4 + 16) = \\frac{40}{5} = 8\n",
    "        $$\n",
    "        - High variance indicates that the data is widely dispersed.\n",
    "    - Standard Deviation: The square root of variance.\n",
    "        Standard Deviation ($\\sigma$):  \n",
    "        $$\n",
    "        \\sigma = \\sqrt{\\frac{1}{N} \\sum_{i=1}^{N} (x_i - \\mu)^2}\n",
    "        $$\n",
    "        - **Example:** Using the same data: 2, 4, 6, 8, 10  \n",
    "            - Mean ($\\mu$) = 6  \n",
    "            - Standard Deviation ($\\sigma$):  \n",
    "                $$\n",
    "                \\sigma = \\sqrt{8} \\approx 2.83\n",
    "                $$\n",
    "    - IQR\n"
   ]
  },
  {
   "cell_type": "markdown",
   "id": "a9add0bb",
   "metadata": {},
   "source": [
    "\n",
    "- Measure of distribution (Shape of the data):\n",
    "    - Normal Distribution \n",
    "    - Skewness\n",
    "    - Kurtosis\n",
    "\n",
    "- Mean: Sum of all values divided by the total population\n",
    "\n",
    "- For normally distributed data the mean and median will be the same value.\n",
    "\n",
    "- Null value imputation strategies:\n",
    "    - When the data is normally distributed, the mean and median are the same, hence we can impute any of them to fill up null values.\n",
    "    - If there are outliers present in the data, it is not recommended to impute the missing data with the mean.\n",
    "        - The mean is calculated based on all the values present and hence is influenced by the outliers.\n",
    "        - It is advised to use median in such cases.\n",
    "\n",
    "- "
   ]
  },
  {
   "cell_type": "markdown",
   "id": "ef384e3a",
   "metadata": {},
   "source": []
  },
  {
   "cell_type": "code",
   "execution_count": null,
   "id": "8335192e",
   "metadata": {},
   "outputs": [],
   "source": []
  }
 ],
 "metadata": {
  "kernelspec": {
   "display_name": "Python 3",
   "language": "python",
   "name": "python3"
  },
  "language_info": {
   "codemirror_mode": {
    "name": "ipython",
    "version": 3
   },
   "file_extension": ".py",
   "mimetype": "text/x-python",
   "name": "python",
   "nbconvert_exporter": "python",
   "pygments_lexer": "ipython3",
   "version": "3.10.13"
  }
 },
 "nbformat": 4,
 "nbformat_minor": 5
}
