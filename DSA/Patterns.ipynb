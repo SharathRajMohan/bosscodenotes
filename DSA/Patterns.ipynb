{
 "cells": [
  {
   "cell_type": "markdown",
   "metadata": {},
   "source": [
    "  *\n",
    " ***\n",
    "*****\n",
    "*****\n",
    " ***\n",
    "  *"
   ]
  },
  {
   "cell_type": "code",
   "execution_count": 1,
   "metadata": {},
   "outputs": [
    {
     "name": "stdout",
     "output_type": "stream",
     "text": [
      "    *\n",
      "   ***\n",
      "  *****\n",
      " *******\n",
      " *******\n",
      "  *****\n",
      "   ***\n",
      "    *\n"
     ]
    }
   ],
   "source": [
    "n = int(input())\n",
    "\n",
    "for i in range(1,2*n):\n",
    "    if i == n:\n",
    "        pass\n",
    "    elif i <= n:\n",
    "        print(\" \"*(n-i) + \"*\"*(2*i-1))\n",
    "    else:\n",
    "        print(\" \"*(i-n) + \"*\"*(2*(2*n-i)-1))"
   ]
  },
  {
   "cell_type": "markdown",
   "metadata": {},
   "source": [
    "1\n",
    "01\n",
    "101\n",
    "0101"
   ]
  },
  {
   "cell_type": "code",
   "execution_count": null,
   "metadata": {},
   "outputs": [],
   "source": [
    "for i in range(n):\n",
    "    flag = i % 2 == 0\n",
    "    for j in range(i + 1):\n",
    "        if flag:\n",
    "            print(1, end='')\n",
    "        else:\n",
    "            print(0, end='')\n",
    "        flag = not flag\n",
    "    print()"
   ]
  },
  {
   "cell_type": "code",
   "execution_count": 66,
   "metadata": {},
   "outputs": [
    {
     "name": "stdout",
     "output_type": "stream",
     "text": [
      "1\n",
      "01\n",
      "101\n",
      "0101\n"
     ]
    }
   ],
   "source": [
    "for i in range(1,n+1):\n",
    "    for j in range(i):\n",
    "        print(''.join(str((j+i) % 2)),end='')\n",
    "    print()\n"
   ]
  },
  {
   "cell_type": "code",
   "execution_count": 57,
   "metadata": {},
   "outputs": [
    {
     "name": "stdout",
     "output_type": "stream",
     "text": [
      "1\n",
      "01\n",
      "101\n",
      "0101\n"
     ]
    }
   ],
   "source": [
    "def generate_pattern(n):\n",
    "    for i in range(1, n + 1):\n",
    "        print(\"\".join(str((j + i) % 2) for j in range(i)))\n",
    "\n",
    "# Set the number of rows\n",
    "rows = 4\n",
    "generate_pattern(rows)\n"
   ]
  },
  {
   "cell_type": "code",
   "execution_count": 56,
   "metadata": {},
   "outputs": [
    {
     "name": "stdout",
     "output_type": "stream",
     "text": [
      "1\n",
      "01\n",
      "101\n",
      "0101\n"
     ]
    }
   ],
   "source": [
    "n = int(input())\n",
    "flag = True\n",
    "for i in range(n):\n",
    "    if i%2 == 0:\n",
    "        flag = True\n",
    "    else:\n",
    "        flag = False\n",
    "    for j in range(i+1):\n",
    "        if flag:\n",
    "            print(1,end='')\n",
    "            flag = False\n",
    "        else:\n",
    "            print(0,end='')\n",
    "            flag = True\n",
    "    print()"
   ]
  },
  {
   "cell_type": "code",
   "execution_count": 53,
   "metadata": {},
   "outputs": [],
   "source": [
    "n = int(input())\n",
    "start = 1\n",
    "for i in range(1-n+1):\n",
    "    for j in range(i):\n",
    "        if i%2 == 0:\n",
    "            print(0,end='') \n",
    "        else:\n",
    "            print(1,end='')\n",
    "    print()"
   ]
  },
  {
   "cell_type": "code",
   "execution_count": null,
   "metadata": {},
   "outputs": [],
   "source": []
  },
  {
   "cell_type": "markdown",
   "metadata": {},
   "source": [
    "## **Pattern Problem (Nested Loops)**\n",
    "\n",
    "for j in range(5):\n",
    "    print(\"*\", end='')\n",
    "\n",
    "for j in range(5):\n",
    "    print(\"*\", end='')\n",
    "\n",
    "print()\n",
    "\n",
    "for j in range(5):\n",
    "    print(\"*\", end='')\n",
    "\n",
    "print()\n",
    "\n",
    "for j in range(5):\n",
    "    print(\"*\", end='')\n",
    "\n",
    "for i in range(3):\n",
    "    for j in range(5):\n",
    "        print(\"*\", end='')\n",
    "    print()\n",
    "\n",
    " **Question**: Write a program to print a `N x M` matrix of `*`\n",
    "\n",
    "N = 4 # no of rows\n",
    "M = 2 # no of cols\n",
    "\n",
    "**\n",
    "\n",
    "**\n",
    "\n",
    "**\n",
    "\n",
    "**\n",
    "\n",
    "N = int(input())\n",
    "M = int(input())\n",
    "\n",
    "for i in range(N):\n",
    "    for j in range(M):\n",
    "        print('*', end='')\n",
    "    print()\n",
    "\n",
    "M = 2\n",
    "for j in range(M):\n",
    "    print('*', end='')\n",
    "\n",
    "## Stair Pattern\n",
    "\n",
    "N = 5\n",
    "\n",
    "for i in range(1, N+1):\n",
    "    for j in range(i):\n",
    "        print(\"*\", end='')\n",
    "    print()\n",
    "\n",
    "## Reverse Stair Pattern\n",
    "\n",
    "N = 15\n",
    "\n",
    "for i in range(1, N+1):\n",
    "    # For each row, print (N-i+1) cols\n",
    "    for j in range(N-i+1):\n",
    "        print('*', end='')\n",
    "    print()\n",
    "\n",
    "\n",
    "###Exercises\n",
    "\n",
    "#### **Diamond Pattern:**\n",
    "  - Write a program to print a diamond shape using nested loops.\n",
    "\n",
    "    *\n",
    "   ***\n",
    "  *****\n",
    " *******\n",
    "*********\n",
    " *******\n",
    "  *****\n",
    "   ***\n",
    "    *\n",
    "\n",
    "#### **Pyramid Pattern:**\n",
    "  - Modify the stair pattern to create a centered pyramid.\n",
    "\n",
    "    *\n",
    "   ***\n",
    "  *****\n",
    " *******\n",
    "*********\n",
    "\n",
    "#### **Hollow Square Pattern:**\n",
    "  - Create a hollow square where only the borders are *.\n",
    "\n",
    "*****\n",
    "*   *\n",
    "*   *\n",
    "*   *\n",
    "*****"
   ]
  }
 ],
 "metadata": {
  "kernelspec": {
   "display_name": "Python 3",
   "language": "python",
   "name": "python3"
  },
  "language_info": {
   "codemirror_mode": {
    "name": "ipython",
    "version": 3
   },
   "file_extension": ".py",
   "mimetype": "text/x-python",
   "name": "python",
   "nbconvert_exporter": "python",
   "pygments_lexer": "ipython3",
   "version": "3.10.13"
  }
 },
 "nbformat": 4,
 "nbformat_minor": 2
}
