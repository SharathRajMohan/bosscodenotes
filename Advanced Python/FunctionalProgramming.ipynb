{
 "cells": [
  {
   "cell_type": "markdown",
   "metadata": {},
   "source": [
    "## Important Concepts in Functional Programming 1\n",
    "\n",
    "* Introduction to Functional Programming\n",
    "  * What is Functional Programming?\n",
    "  * Key Characteristics of Fuctional Programming\n",
    "  * Benifits of Functional Programming\n",
    "  * Comparison with Imperative and Object-Oriented Programming\n",
    "* Function\n",
    "* Core concept\n",
    "* Lambda Functions\n",
    "  * Diff b/w Lambda function vs def Keyword\n",
    "* Decorators\n",
    "* MAPS\n",
    "* FILTERS\n",
    "* ZIP\n",
    "* REDUCE\n"
   ]
  }
 ],
 "metadata": {
  "language_info": {
   "name": "python"
  }
 },
 "nbformat": 4,
 "nbformat_minor": 2
}
