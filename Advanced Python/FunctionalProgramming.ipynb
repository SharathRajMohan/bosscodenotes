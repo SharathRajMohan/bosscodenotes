{
 "cells": [
  {
   "cell_type": "markdown",
   "metadata": {},
   "source": [
    "## Functional Programming\n",
    "### Agenda\n",
    "* Introduction to Functional Programming\n",
    "  * What is Functional Programming?\n",
    "  * Key Characteristics of Fuctional Programming\n",
    "  * Benifits of Functional Programming\n",
    "  * Comparison with Imperative and Object-Oriented Programming\n",
    "* Function\n",
    "* Core concept\n",
    "* Lambda Functions\n",
    "  * Diff b/w Lambda function vs def Keyword\n",
    "* Decorators\n",
    "* MAPS\n",
    "* FILTERS\n",
    "* ZIP\n",
    "* REDUCE\n",
    "\n",
    "### InClass Notes\n",
    "- Functional Programming: Functional programming in Python is a programming paradigm that emphasizes the use of functions as the primary building blocks of code. It promotes writing code that is clear, concise, and less prone to errors by focusing on \"what to solve\" rather than \"how to solve\".\n",
    "- To support functional programming, it’s beneficial if a function in a given programming language can do these two things:\n",
    "    1. Take another function as an argument\n",
    "    2. Return another function to its caller\n",
    "Python plays nicely in both respects. Everything in Python is an object, and all objects in Python have more or less equal stature. Functions are no exception.\n",
    "- In Python, functions are `first-class citizens`. This means that functions have the same characteristics as values like strings and numbers. Anything you would expect to be able to do with a string or number, you can also do with a function.\n",
    "- Higher-order functions are functions that take other functions as parameters or return functions as results.\n",
    "- Function Composition: Passing one function as the argument for another function.\n",
    "  - Keep in mind that you’re passing the function object as an argument. If you would call the function object using parentheses, then you wouldn’t pass the function object but instead its return value.\n",
    "- Decorator: Python provides a shortcut notation called a decorator to facilitate wrapping one function inside another.\n",
    "- Callback Function: When you pass a function to another function, the passed-in function is sometimes referred to as a callback because a call back to the inner function can modify the outer function’s behavior.\n",
    "  - example: \n",
    "  ```\n",
    "  animals = [\"ferret\", \"vole\", \"dog\", \"gecko\"]\n",
    "  sorted(animals)\n",
    "  --> ['dog', 'ferret', 'gecko', 'vole']\n",
    "  sorted(animals, key=len) # Sorting based on the len() function passed as key.\n",
    "  ['dog', 'vole', 'gecko', 'ferret']\n",
    "  ```\n",
    "- Pure Function: \n"
   ]
  },
  {
   "cell_type": "markdown",
   "metadata": {},
   "source": [
    "###"
   ]
  }
 ],
 "metadata": {
  "kernelspec": {
   "display_name": "Python 3",
   "language": "python",
   "name": "python3"
  },
  "language_info": {
   "codemirror_mode": {
    "name": "ipython",
    "version": 3
   },
   "file_extension": ".py",
   "mimetype": "text/x-python",
   "name": "python",
   "nbconvert_exporter": "python",
   "pygments_lexer": "ipython3",
   "version": "3.10.13"
  }
 },
 "nbformat": 4,
 "nbformat_minor": 2
}
